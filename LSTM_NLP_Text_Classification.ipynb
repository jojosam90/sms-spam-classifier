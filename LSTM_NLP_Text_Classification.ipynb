{
  "nbformat": 4,
  "nbformat_minor": 0,
  "metadata": {
    "colab": {
      "provenance": [],
      "authorship_tag": "ABX9TyODpjd7Fl2sGdJMTJczN1aH",
      "include_colab_link": true
    },
    "kernelspec": {
      "name": "python3",
      "display_name": "Python 3"
    },
    "language_info": {
      "name": "python"
    },
    "accelerator": "GPU",
    "gpuClass": "standard"
  },
  "cells": [
    {
      "cell_type": "markdown",
      "metadata": {
        "id": "view-in-github",
        "colab_type": "text"
      },
      "source": [
        "<a href=\"https://colab.research.google.com/github/jojosam90/sms-spam-classifier/blob/main/LSTM_NLP_Text_Classification.ipynb\" target=\"_parent\"><img src=\"https://colab.research.google.com/assets/colab-badge.svg\" alt=\"Open In Colab\"/></a>"
      ]
    },
    {
      "cell_type": "markdown",
      "source": [
        "**LSTM for NLP : Text Classification**\n",
        "\n",
        "https://www.kaggle.com/code/khotijahs1/using-lstm-for-nlp-text-classification"
      ],
      "metadata": {
        "id": "Pw4dp-wW93G0"
      }
    },
    {
      "cell_type": "code",
      "source": [
        "from google.colab import drive\n",
        "drive.mount('/content/drive')"
      ],
      "metadata": {
        "id": "jhtX8e_bAOYC",
        "outputId": "45eec002-7c90-414f-9852-18c96816fdbe",
        "colab": {
          "base_uri": "https://localhost:8080/"
        }
      },
      "execution_count": 6,
      "outputs": [
        {
          "output_type": "stream",
          "name": "stdout",
          "text": [
            "Mounted at /content/drive\n"
          ]
        }
      ]
    },
    {
      "cell_type": "code",
      "execution_count": 3,
      "metadata": {
        "id": "kBiIYAL86fgU"
      },
      "outputs": [],
      "source": [
        "import pandas as pd\n",
        "import numpy as np\n",
        "from tqdm import tqdm\n",
        "from keras.preprocessing.text import Tokenizer\n",
        "tqdm.pandas(desc=\"progress-bar\")\n",
        "from gensim.models import Doc2Vec\n",
        "from sklearn import utils\n",
        "from sklearn.model_selection import train_test_split\n",
        "from keras_preprocessing.sequence import pad_sequences\n",
        "import gensim\n",
        "from sklearn.linear_model import LogisticRegression\n",
        "from gensim.models.doc2vec import TaggedDocument\n",
        "import re\n",
        "import seaborn as sns\n",
        "import matplotlib.pyplot as plt"
      ]
    },
    {
      "cell_type": "code",
      "source": [
        "df = pd.read_csv('/content/drive/MyDrive/spam/SPAM text message 20170820 - Data.csv',delimiter=',',encoding='latin-1')\n",
        "df = df[['Category','Message']]\n",
        "df = df[pd.notnull(df['Message'])]\n",
        "df.rename(columns = {'Message':'Message'}, inplace = True)\n",
        "df.head()"
      ],
      "metadata": {
        "id": "haCdZ9Ul_DlM",
        "outputId": "38772080-b9b9-4d85-9a91-5437bb7f2ba3",
        "colab": {
          "base_uri": "https://localhost:8080/",
          "height": 206
        }
      },
      "execution_count": 7,
      "outputs": [
        {
          "output_type": "execute_result",
          "data": {
            "text/plain": [
              "  Category                                            Message\n",
              "0      ham  Go until jurong point, crazy.. Available only ...\n",
              "1      ham                      Ok lar... Joking wif u oni...\n",
              "2     spam  Free entry in 2 a wkly comp to win FA Cup fina...\n",
              "3      ham  U dun say so early hor... U c already then say...\n",
              "4      ham  Nah I don't think he goes to usf, he lives aro..."
            ],
            "text/html": [
              "\n",
              "  <div id=\"df-74d6ec3c-5b70-46bd-9251-a186aaa9bad0\">\n",
              "    <div class=\"colab-df-container\">\n",
              "      <div>\n",
              "<style scoped>\n",
              "    .dataframe tbody tr th:only-of-type {\n",
              "        vertical-align: middle;\n",
              "    }\n",
              "\n",
              "    .dataframe tbody tr th {\n",
              "        vertical-align: top;\n",
              "    }\n",
              "\n",
              "    .dataframe thead th {\n",
              "        text-align: right;\n",
              "    }\n",
              "</style>\n",
              "<table border=\"1\" class=\"dataframe\">\n",
              "  <thead>\n",
              "    <tr style=\"text-align: right;\">\n",
              "      <th></th>\n",
              "      <th>Category</th>\n",
              "      <th>Message</th>\n",
              "    </tr>\n",
              "  </thead>\n",
              "  <tbody>\n",
              "    <tr>\n",
              "      <th>0</th>\n",
              "      <td>ham</td>\n",
              "      <td>Go until jurong point, crazy.. Available only ...</td>\n",
              "    </tr>\n",
              "    <tr>\n",
              "      <th>1</th>\n",
              "      <td>ham</td>\n",
              "      <td>Ok lar... Joking wif u oni...</td>\n",
              "    </tr>\n",
              "    <tr>\n",
              "      <th>2</th>\n",
              "      <td>spam</td>\n",
              "      <td>Free entry in 2 a wkly comp to win FA Cup fina...</td>\n",
              "    </tr>\n",
              "    <tr>\n",
              "      <th>3</th>\n",
              "      <td>ham</td>\n",
              "      <td>U dun say so early hor... U c already then say...</td>\n",
              "    </tr>\n",
              "    <tr>\n",
              "      <th>4</th>\n",
              "      <td>ham</td>\n",
              "      <td>Nah I don't think he goes to usf, he lives aro...</td>\n",
              "    </tr>\n",
              "  </tbody>\n",
              "</table>\n",
              "</div>\n",
              "      <button class=\"colab-df-convert\" onclick=\"convertToInteractive('df-74d6ec3c-5b70-46bd-9251-a186aaa9bad0')\"\n",
              "              title=\"Convert this dataframe to an interactive table.\"\n",
              "              style=\"display:none;\">\n",
              "        \n",
              "  <svg xmlns=\"http://www.w3.org/2000/svg\" height=\"24px\"viewBox=\"0 0 24 24\"\n",
              "       width=\"24px\">\n",
              "    <path d=\"M0 0h24v24H0V0z\" fill=\"none\"/>\n",
              "    <path d=\"M18.56 5.44l.94 2.06.94-2.06 2.06-.94-2.06-.94-.94-2.06-.94 2.06-2.06.94zm-11 1L8.5 8.5l.94-2.06 2.06-.94-2.06-.94L8.5 2.5l-.94 2.06-2.06.94zm10 10l.94 2.06.94-2.06 2.06-.94-2.06-.94-.94-2.06-.94 2.06-2.06.94z\"/><path d=\"M17.41 7.96l-1.37-1.37c-.4-.4-.92-.59-1.43-.59-.52 0-1.04.2-1.43.59L10.3 9.45l-7.72 7.72c-.78.78-.78 2.05 0 2.83L4 21.41c.39.39.9.59 1.41.59.51 0 1.02-.2 1.41-.59l7.78-7.78 2.81-2.81c.8-.78.8-2.07 0-2.86zM5.41 20L4 18.59l7.72-7.72 1.47 1.35L5.41 20z\"/>\n",
              "  </svg>\n",
              "      </button>\n",
              "      \n",
              "  <style>\n",
              "    .colab-df-container {\n",
              "      display:flex;\n",
              "      flex-wrap:wrap;\n",
              "      gap: 12px;\n",
              "    }\n",
              "\n",
              "    .colab-df-convert {\n",
              "      background-color: #E8F0FE;\n",
              "      border: none;\n",
              "      border-radius: 50%;\n",
              "      cursor: pointer;\n",
              "      display: none;\n",
              "      fill: #1967D2;\n",
              "      height: 32px;\n",
              "      padding: 0 0 0 0;\n",
              "      width: 32px;\n",
              "    }\n",
              "\n",
              "    .colab-df-convert:hover {\n",
              "      background-color: #E2EBFA;\n",
              "      box-shadow: 0px 1px 2px rgba(60, 64, 67, 0.3), 0px 1px 3px 1px rgba(60, 64, 67, 0.15);\n",
              "      fill: #174EA6;\n",
              "    }\n",
              "\n",
              "    [theme=dark] .colab-df-convert {\n",
              "      background-color: #3B4455;\n",
              "      fill: #D2E3FC;\n",
              "    }\n",
              "\n",
              "    [theme=dark] .colab-df-convert:hover {\n",
              "      background-color: #434B5C;\n",
              "      box-shadow: 0px 1px 3px 1px rgba(0, 0, 0, 0.15);\n",
              "      filter: drop-shadow(0px 1px 2px rgba(0, 0, 0, 0.3));\n",
              "      fill: #FFFFFF;\n",
              "    }\n",
              "  </style>\n",
              "\n",
              "      <script>\n",
              "        const buttonEl =\n",
              "          document.querySelector('#df-74d6ec3c-5b70-46bd-9251-a186aaa9bad0 button.colab-df-convert');\n",
              "        buttonEl.style.display =\n",
              "          google.colab.kernel.accessAllowed ? 'block' : 'none';\n",
              "\n",
              "        async function convertToInteractive(key) {\n",
              "          const element = document.querySelector('#df-74d6ec3c-5b70-46bd-9251-a186aaa9bad0');\n",
              "          const dataTable =\n",
              "            await google.colab.kernel.invokeFunction('convertToInteractive',\n",
              "                                                     [key], {});\n",
              "          if (!dataTable) return;\n",
              "\n",
              "          const docLinkHtml = 'Like what you see? Visit the ' +\n",
              "            '<a target=\"_blank\" href=https://colab.research.google.com/notebooks/data_table.ipynb>data table notebook</a>'\n",
              "            + ' to learn more about interactive tables.';\n",
              "          element.innerHTML = '';\n",
              "          dataTable['output_type'] = 'display_data';\n",
              "          await google.colab.output.renderOutput(dataTable, element);\n",
              "          const docLink = document.createElement('div');\n",
              "          docLink.innerHTML = docLinkHtml;\n",
              "          element.appendChild(docLink);\n",
              "        }\n",
              "      </script>\n",
              "    </div>\n",
              "  </div>\n",
              "  "
            ]
          },
          "metadata": {},
          "execution_count": 7
        }
      ]
    },
    {
      "cell_type": "code",
      "source": [
        "df.shape"
      ],
      "metadata": {
        "id": "-Xtr3ELfBL1u",
        "outputId": "045658b6-90ff-481f-ffbc-f9c32306a4b5",
        "colab": {
          "base_uri": "https://localhost:8080/"
        }
      },
      "execution_count": 8,
      "outputs": [
        {
          "output_type": "execute_result",
          "data": {
            "text/plain": [
              "(5572, 2)"
            ]
          },
          "metadata": {},
          "execution_count": 8
        }
      ]
    },
    {
      "cell_type": "code",
      "source": [
        "df.index = range(5572)\n",
        "df['Message'].apply(lambda x: len(x.split(' '))).sum()"
      ],
      "metadata": {
        "id": "P9EVn6GEBNJ_",
        "outputId": "d0427a47-3da7-4477-a08f-b73f5199bda2",
        "colab": {
          "base_uri": "https://localhost:8080/"
        }
      },
      "execution_count": 9,
      "outputs": [
        {
          "output_type": "execute_result",
          "data": {
            "text/plain": [
              "87265"
            ]
          },
          "metadata": {},
          "execution_count": 9
        }
      ]
    },
    {
      "cell_type": "code",
      "source": [
        "cnt_pro = df['Category'].value_counts()\n",
        "plt.figure(figsize=(12,4))\n",
        "sns.barplot(cnt_pro.index, cnt_pro.values, alpha=0.8)\n",
        "plt.ylabel('Number of Occurrences', fontsize=12)\n",
        "plt.xlabel('Category', fontsize=12)\n",
        "plt.xticks(rotation=90)\n",
        "plt.show();"
      ],
      "metadata": {
        "id": "BoHVLoHTBOu8",
        "outputId": "d0083ac7-61b1-4125-e51a-d60210dfc0ff",
        "colab": {
          "base_uri": "https://localhost:8080/",
          "height": 357
        }
      },
      "execution_count": 10,
      "outputs": [
        {
          "output_type": "stream",
          "name": "stderr",
          "text": [
            "/usr/local/lib/python3.8/dist-packages/seaborn/_decorators.py:36: FutureWarning: Pass the following variables as keyword args: x, y. From version 0.12, the only valid positional argument will be `data`, and passing other arguments without an explicit keyword will result in an error or misinterpretation.\n",
            "  warnings.warn(\n"
          ]
        },
        {
          "output_type": "display_data",
          "data": {
            "text/plain": [
              "<Figure size 864x288 with 1 Axes>"
            ],
            "image/png": "[encoded data removed]"
          },
          "metadata": {
            "needs_background": "light"
          }
        }
      ]
    },
    {
      "cell_type": "code",
      "source": [
        "def print_message(index):\n",
        "    example = df[df.index == index][['Message', 'Category']].values[0]\n",
        "    if len(example) > 0:\n",
        "        print(example[0])\n",
        "        print('Message:', example[1])\n",
        "print_message(12)"
      ],
      "metadata": {
        "id": "Eln8i8NbBRF8",
        "outputId": "5c436b1a-2453-4355-d468-0ccc330fb5bc",
        "colab": {
          "base_uri": "https://localhost:8080/"
        }
      },
      "execution_count": 11,
      "outputs": [
        {
          "output_type": "stream",
          "name": "stdout",
          "text": [
            "URGENT! You have won a 1 week FREE membership in our Â£100,000 Prize Jackpot! Txt the word: CLAIM to No: 81010 T&C www.dbuk.net LCCLTD POBOX 4403LDNW1A7RW18\n",
            "Message: spam\n"
          ]
        }
      ]
    },
    {
      "cell_type": "code",
      "source": [
        "print_message(0)"
      ],
      "metadata": {
        "id": "e_11IKxPBSut",
        "outputId": "1789d928-13bc-4e87-aa35-7d5f99ae296d",
        "colab": {
          "base_uri": "https://localhost:8080/"
        }
      },
      "execution_count": 12,
      "outputs": [
        {
          "output_type": "stream",
          "name": "stdout",
          "text": [
            "Go until jurong point, crazy.. Available only in bugis n great world la e buffet... Cine there got amore wat...\n",
            "Message: ham\n"
          ]
        }
      ]
    },
    {
      "cell_type": "code",
      "source": [
        "from bs4 import BeautifulSoup\n",
        "def cleanText(text):\n",
        "    text = BeautifulSoup(text, \"lxml\").text\n",
        "    text = re.sub(r'\\|\\|\\|', r' ', text) \n",
        "    text = re.sub(r'http\\S+', r'<URL>', text)\n",
        "    text = text.lower()\n",
        "    text = text.replace('x', '')\n",
        "    return text\n",
        "df['Message'] = df['Message'].apply(cleanText)"
      ],
      "metadata": {
        "id": "TFlTqgvBBUGA"
      },
      "execution_count": 13,
      "outputs": []
    },
    {
      "cell_type": "code",
      "source": [
        "df['Message'] = df['Message'].apply(cleanText)\n",
        "train, test = train_test_split(df, test_size=0.000001 , random_state=42)\n",
        "import nltk\n",
        "from nltk.corpus import stopwords\n",
        "# nltk.download('all')\n",
        "from nltk.tokenize import word_tokenize\n",
        "def tokenize_text(text):\n",
        "    tokens = []\n",
        "    for sent in nltk.sent_tokenize(text):\n",
        "        for word in nltk.word_tokenize(sent):\n",
        "            #if len(word) < 0:\n",
        "            if len(word) <= 0:\n",
        "                continue\n",
        "            tokens.append(word.lower())\n",
        "    return tokens\n",
        "train_tagged = train.apply(\n",
        "    lambda r: TaggedDocument(words=tokenize_text(r['Message']), tags=[r.Category]), axis=1)\n",
        "test_tagged = test.apply(\n",
        "    lambda r: TaggedDocument(words=tokenize_text(r['Message']), tags=[r.Category]), axis=1)\n",
        "\n",
        "# The maximum number of words to be used. (most frequent)\n",
        "max_fatures = 500000\n",
        "\n",
        "# Max number of words in each complaint.\n",
        "MAX_SEQUENCE_LENGTH = 50\n",
        "\n",
        "#tokenizer = Tokenizer(num_words=max_fatures, split=' ')\n",
        "tokenizer = Tokenizer(num_words=max_fatures, split=' ', filters='!\"#$%&()*+,-./:;<=>?@[\\]^_`{|}~', lower=True)\n",
        "tokenizer.fit_on_texts(df['Message'].values)\n",
        "X = tokenizer.texts_to_sequences(df['Message'].values)\n",
        "X = pad_sequences(X)\n",
        "print('Found %s unique tokens.' % len(X))"
      ],
      "metadata": {
        "id": "RzG6OBj3BYY9",
        "outputId": "78e9bc1b-daea-4f27-d80d-1cb2b7185157",
        "colab": {
          "base_uri": "https://localhost:8080/"
        }
      },
      "execution_count": 18,
      "outputs": [
        {
          "output_type": "stream",
          "name": "stdout",
          "text": [
            "Found 5572 unique tokens.\n"
          ]
        }
      ]
    },
    {
      "cell_type": "code",
      "source": [
        "X = tokenizer.texts_to_sequences(df['Message'].values)\n",
        "X = pad_sequences(X, maxlen=MAX_SEQUENCE_LENGTH)\n",
        "print('Shape of data tensor:', X.shape)"
      ],
      "metadata": {
        "id": "Z6nv4o66B9vd",
        "outputId": "e3482051-255c-4027-e4c2-ce78332d6027",
        "colab": {
          "base_uri": "https://localhost:8080/"
        }
      },
      "execution_count": 17,
      "outputs": [
        {
          "output_type": "stream",
          "name": "stdout",
          "text": [
            "Shape of data tensor: (5572, 50)\n"
          ]
        }
      ]
    },
    {
      "cell_type": "code",
      "source": [
        "train_tagged.values"
      ],
      "metadata": {
        "id": "JzMrg89fCSRL",
        "outputId": "6a5961d8-d077-4c75-f7f5-29de00991231",
        "colab": {
          "base_uri": "https://localhost:8080/"
        }
      },
      "execution_count": 19,
      "outputs": [
        {
          "output_type": "execute_result",
          "data": {
            "text/plain": [
              "array([TaggedDocument(words=['and', 'also', 'i', \"'ve\", 'sorta', 'blown', 'him', 'off', 'a', 'couple', 'times', 'recently', 'so', 'id', 'rather', 'not', 'tet', 'him', 'out', 'of', 'the', 'blue', 'looking', 'for', 'weed'], tags=['ham']),\n",
              "       TaggedDocument(words=['mmm', 'thats', 'better', 'now', 'i', 'got', 'a', 'roast', 'down', 'me', '!', 'iâ\\x92d', 'b', 'better', 'if', 'i', 'had', 'a', 'few', 'drinks', 'down', 'me', '2', '!', 'good', 'indian', '?'], tags=['ham']),\n",
              "       TaggedDocument(words=['mm', 'have', 'some', 'kanji', 'dont', 'eat', 'anything', 'heavy', 'ok'], tags=['ham']),\n",
              "       ...,\n",
              "       TaggedDocument(words=['prabha', '..', 'i', \"'m\", 'soryda', '..', 'realy', '..', 'frm', 'heart', 'i', \"'m\", 'sory'], tags=['ham']),\n",
              "       TaggedDocument(words=['nt', 'joking', 'seriously', 'i', 'told'], tags=['ham']),\n",
              "       TaggedDocument(words=['did', 'he', 'just', 'say', 'somebody', 'is', 'named', 'tampa'], tags=['ham'])],\n",
              "      dtype=object)"
            ]
          },
          "metadata": {},
          "execution_count": 19
        }
      ]
    },
    {
      "cell_type": "code",
      "source": [
        "d2v_model = Doc2Vec(dm=1, dm_mean=1, size=20, window=8, min_count=1, workers=1, alpha=0.065, min_alpha=0.065)\n",
        "d2v_model.build_vocab([x for x in tqdm(train_tagged.values)])"
      ],
      "metadata": {
        "id": "pRfFYRbJCWWb",
        "outputId": "c2736cf0-f1c9-4e68-a247-db568885ee63",
        "colab": {
          "base_uri": "https://localhost:8080/"
        }
      },
      "execution_count": 20,
      "outputs": [
        {
          "output_type": "stream",
          "name": "stderr",
          "text": [
            "/usr/local/lib/python3.8/dist-packages/gensim/models/doc2vec.py:570: UserWarning: The parameter `size` is deprecated, will be removed in 4.0.0, use `vector_size` instead.\n",
            "  warnings.warn(\"The parameter `size` is deprecated, will be removed in 4.0.0, use `vector_size` instead.\")\n",
            "100%|██████████| 5571/5571 [00:00<00:00, 1487173.34it/s]\n"
          ]
        }
      ]
    },
    {
      "cell_type": "code",
      "source": [
        "%%time\n",
        "for epoch in range(30):\n",
        "    d2v_model.train(utils.shuffle([x for x in tqdm(train_tagged.values)]), total_examples=len(train_tagged.values), epochs=1)\n",
        "    d2v_model.alpha -= 0.002\n",
        "    d2v_model.min_alpha = d2v_model.alpha"
      ],
      "metadata": {
        "id": "fy4TcZtBCX8A",
        "outputId": "cd9f0ac8-7140-4acc-a225-34aa727949e1",
        "colab": {
          "base_uri": "https://localhost:8080/"
        }
      },
      "execution_count": 21,
      "outputs": [
        {
          "output_type": "stream",
          "name": "stderr",
          "text": [
            "100%|██████████| 5571/5571 [00:00<00:00, 1311102.43it/s]\n",
            "100%|██████████| 5571/5571 [00:00<00:00, 1469958.96it/s]\n",
            "100%|██████████| 5571/5571 [00:00<00:00, 1576152.96it/s]\n",
            "100%|██████████| 5571/5571 [00:00<00:00, 3009979.08it/s]\n",
            "100%|██████████| 5571/5571 [00:00<00:00, 3007267.39it/s]\n",
            "100%|██████████| 5571/5571 [00:00<00:00, 1876824.71it/s]\n",
            "100%|██████████| 5571/5571 [00:00<00:00, 3099823.24it/s]\n",
            "100%|██████████| 5571/5571 [00:00<00:00, 2791692.66it/s]\n",
            "100%|██████████| 5571/5571 [00:00<00:00, 2917162.00it/s]\n",
            "100%|██████████| 5571/5571 [00:00<00:00, 1653560.79it/s]\n",
            "100%|██████████| 5571/5571 [00:00<00:00, 3099823.24it/s]\n",
            "100%|██████████| 5571/5571 [00:00<00:00, 1380915.29it/s]\n",
            "100%|██████████| 5571/5571 [00:00<00:00, 1944289.20it/s]\n",
            "100%|██████████| 5571/5571 [00:00<00:00, 1448364.69it/s]\n",
            "100%|██████████| 5571/5571 [00:00<00:00, 1890490.90it/s]\n",
            "100%|██████████| 5571/5571 [00:00<00:00, 1683220.54it/s]\n",
            "100%|██████████| 5571/5571 [00:00<00:00, 1626511.73it/s]\n",
            "100%|██████████| 5571/5571 [00:00<00:00, 2886530.89it/s]\n",
            "100%|██████████| 5571/5571 [00:00<00:00, 3142766.32it/s]\n",
            "100%|██████████| 5571/5571 [00:00<00:00, 1492874.24it/s]\n",
            "100%|██████████| 5571/5571 [00:00<00:00, 1387804.69it/s]\n",
            "100%|██████████| 5571/5571 [00:00<00:00, 1592155.05it/s]\n",
            "100%|██████████| 5571/5571 [00:00<00:00, 1358673.54it/s]\n",
            "100%|██████████| 5571/5571 [00:00<00:00, 1694941.79it/s]\n",
            "100%|██████████| 5571/5571 [00:00<00:00, 1748594.45it/s]\n",
            "100%|██████████| 5571/5571 [00:00<00:00, 1842490.74it/s]\n",
            "100%|██████████| 5571/5571 [00:00<00:00, 1637339.19it/s]\n",
            "100%|██████████| 5571/5571 [00:00<00:00, 1807151.40it/s]\n",
            "100%|██████████| 5571/5571 [00:00<00:00, 1542341.09it/s]\n",
            "100%|██████████| 5571/5571 [00:00<00:00, 1662857.07it/s]\n"
          ]
        },
        {
          "output_type": "stream",
          "name": "stdout",
          "text": [
            "CPU times: user 9.45 s, sys: 67.2 ms, total: 9.52 s\n",
            "Wall time: 9.82 s\n"
          ]
        }
      ]
    },
    {
      "cell_type": "code",
      "source": [
        "print(d2v_model)"
      ],
      "metadata": {
        "id": "SgayTtQtCmwF",
        "outputId": "8c83a6b3-8c37-477a-bfef-63b557ffbe4e",
        "colab": {
          "base_uri": "https://localhost:8080/"
        }
      },
      "execution_count": 22,
      "outputs": [
        {
          "output_type": "stream",
          "name": "stdout",
          "text": [
            "Doc2Vec(dm/m,d20,n5,w8,s0.001)\n"
          ]
        }
      ]
    },
    {
      "cell_type": "code",
      "source": [
        "len(d2v_model.wv.vocab)"
      ],
      "metadata": {
        "id": "NBodmTQpCo-a",
        "outputId": "c597f6d8-50df-435a-f410-e70204c3eb20",
        "colab": {
          "base_uri": "https://localhost:8080/"
        }
      },
      "execution_count": 23,
      "outputs": [
        {
          "output_type": "execute_result",
          "data": {
            "text/plain": [
              "9370"
            ]
          },
          "metadata": {},
          "execution_count": 23
        }
      ]
    },
    {
      "cell_type": "code",
      "source": [
        "# save the vectors in a new matrix\n",
        "embedding_matrix = np.zeros((len(d2v_model.wv.vocab)+ 1, 20))\n",
        "\n",
        "for i, vec in enumerate(d2v_model.docvecs.vectors_docs):\n",
        "    while i in vec <= 1000:\n",
        "    #print(i)\n",
        "    #print(model.docvecs)\n",
        "          embedding_matrix[i]=vec\n",
        "    #print(vec)\n",
        "    #print(vec[i])"
      ],
      "metadata": {
        "id": "zBmwZxb5CrWX"
      },
      "execution_count": 24,
      "outputs": []
    },
    {
      "cell_type": "markdown",
      "source": [
        "**Measuring distance between two vectors (related to cosine similarity)**"
      ],
      "metadata": {
        "id": "XC9ZFyWTCuSw"
      }
    },
    {
      "cell_type": "code",
      "source": [
        "d2v_model.wv.most_similar(positive=['urgent'], topn=10)"
      ],
      "metadata": {
        "id": "tJ7WdZAZCxVz",
        "outputId": "7e22c1b3-e358-4b53-ea82-6ebf103888f5",
        "colab": {
          "base_uri": "https://localhost:8080/"
        }
      },
      "execution_count": 25,
      "outputs": [
        {
          "output_type": "execute_result",
          "data": {
            "text/plain": [
              "[('11mths+', 0.7414788603782654),\n",
              " ('callertune', 0.7257471084594727),\n",
              " ('callers', 0.7246151566505432),\n",
              " ('denying', 0.7194780111312866),\n",
              " ('jealous', 0.7117162346839905),\n",
              " ('divert', 0.7029061317443848),\n",
              " ('09061743811', 0.700573742389679),\n",
              " ('wadebridge.i', 0.6984114050865173),\n",
              " ('whens', 0.6946920156478882),\n",
              " ('reserve', 0.6897503137588501)]"
            ]
          },
          "metadata": {},
          "execution_count": 25
        }
      ]
    },
    {
      "cell_type": "code",
      "source": [
        "d2v_model.wv.most_similar(positive=['cherish'], topn=10)"
      ],
      "metadata": {
        "id": "7TSzlTzgCzw7",
        "outputId": "ec5cb56b-6ea7-4c24-8fcd-00271d62bcbf",
        "colab": {
          "base_uri": "https://localhost:8080/"
        }
      },
      "execution_count": 27,
      "outputs": [
        {
          "output_type": "execute_result",
          "data": {
            "text/plain": [
              "[('okors', 0.7778984308242798),\n",
              " ('intrepid', 0.7766194939613342),\n",
              " ('semester', 0.7427587509155273),\n",
              " ('enjoyed', 0.73726886510849),\n",
              " ('dawns', 0.7369105219841003),\n",
              " ('duo', 0.732171893119812),\n",
              " ('holder', 0.7320700883865356),\n",
              " ('thank', 0.7320417761802673),\n",
              " ('pee', 0.724521815776825),\n",
              " ('abiola', 0.7165395021438599)]"
            ]
          },
          "metadata": {},
          "execution_count": 27
        }
      ]
    },
    {
      "cell_type": "markdown",
      "source": [
        "**Create the LSTM Model**"
      ],
      "metadata": {
        "id": "D5vDO9xkDCdn"
      }
    },
    {
      "cell_type": "code",
      "source": [
        "from keras.models import Sequential\n",
        "from keras.layers import LSTM, Dense, Embedding\n",
        "\n",
        "\n",
        "# init layer\n",
        "model = Sequential()\n",
        "\n",
        "# emmbed word vectors\n",
        "model.add(Embedding(len(d2v_model.wv.vocab)+1,20,input_length=X.shape[1],weights=[embedding_matrix],trainable=True))\n",
        "\n",
        "# learn the correlations\n",
        "def split_input(sequence):\n",
        "     return sequence[:-1], tf.reshape(sequence[1:], (-1,1))\n",
        "model.add(LSTM(50,return_sequences=False))\n",
        "model.add(Dense(2,activation=\"softmax\"))\n",
        "\n",
        "# output model skeleton\n",
        "model.summary()\n",
        "model.compile(optimizer=\"adam\",loss=\"binary_crossentropy\",metrics=['acc'])"
      ],
      "metadata": {
        "id": "aouiHewBDGNV",
        "outputId": "7c4d55f0-17a5-4e3e-bb27-7c9a06b8c213",
        "colab": {
          "base_uri": "https://localhost:8080/"
        }
      },
      "execution_count": 28,
      "outputs": [
        {
          "output_type": "stream",
          "name": "stdout",
          "text": [
            "Model: \"sequential\"\n",
            "_________________________________________________________________\n",
            " Layer (type)                Output Shape              Param #   \n",
            "=================================================================\n",
            " embedding (Embedding)       (None, 189, 20)           187420    \n",
            "                                                                 \n",
            " lstm (LSTM)                 (None, 50)                14200     \n",
            "                                                                 \n",
            " dense (Dense)               (None, 2)                 102       \n",
            "                                                                 \n",
            "=================================================================\n",
            "Total params: 201,722\n",
            "Trainable params: 201,722\n",
            "Non-trainable params: 0\n",
            "_________________________________________________________________\n"
          ]
        }
      ]
    },
    {
      "cell_type": "code",
      "source": [
        "from keras.utils import plot_model\n",
        "plot_model(model, to_file='model.png')"
      ],
      "metadata": {
        "id": "jJ1gJLiYDNCU",
        "outputId": "b4f89dd9-ca74-4834-a400-14a6e57fddfd",
        "colab": {
          "base_uri": "https://localhost:8080/",
          "height": 369
        }
      },
      "execution_count": 29,
      "outputs": [
        {
          "output_type": "execute_result",
          "data": {
            "image/png": "[encoded data removed]",
            "text/plain": [
              "<IPython.core.display.Image object>"
            ]
          },
          "metadata": {},
          "execution_count": 29
        }
      ]
    },
    {
      "cell_type": "code",
      "source": [
        "Y = pd.get_dummies(df['Category']).values\n",
        "X_train, X_test, Y_train, Y_test = train_test_split(X,Y, test_size = 0.15, random_state = 42)\n",
        "print(X_train.shape,Y_train.shape)\n",
        "print(X_test.shape,Y_test.shape)"
      ],
      "metadata": {
        "id": "RDFb20iQDPUa",
        "outputId": "de40c4f0-45d9-4ee2-b7e7-daf8c5469264",
        "colab": {
          "base_uri": "https://localhost:8080/"
        }
      },
      "execution_count": 30,
      "outputs": [
        {
          "output_type": "stream",
          "name": "stdout",
          "text": [
            "(4736, 189) (4736, 2)\n",
            "(836, 189) (836, 2)\n"
          ]
        }
      ]
    },
    {
      "cell_type": "code",
      "source": [
        "batch_size = 32\n",
        "history=model.fit(X_train, Y_train, epochs =50, batch_size=batch_size, verbose = 2)"
      ],
      "metadata": {
        "id": "gKQexLsODRTu",
        "outputId": "467e10c1-bf13-45ac-adb5-233582a107b5",
        "colab": {
          "base_uri": "https://localhost:8080/"
        }
      },
      "execution_count": 31,
      "outputs": [
        {
          "output_type": "stream",
          "name": "stdout",
          "text": [
            "Epoch 1/50\n",
            "148/148 - 7s - loss: 0.2894 - acc: 0.9084 - 7s/epoch - 50ms/step\n",
            "Epoch 2/50\n",
            "148/148 - 1s - loss: 0.0496 - acc: 0.9869 - 1s/epoch - 7ms/step\n",
            "Epoch 3/50\n",
            "148/148 - 1s - loss: 0.0217 - acc: 0.9951 - 1s/epoch - 7ms/step\n",
            "Epoch 4/50\n",
            "148/148 - 1s - loss: 0.0164 - acc: 0.9960 - 1s/epoch - 7ms/step\n",
            "Epoch 5/50\n",
            "148/148 - 1s - loss: 0.0073 - acc: 0.9983 - 1s/epoch - 7ms/step\n",
            "Epoch 6/50\n",
            "148/148 - 1s - loss: 0.0035 - acc: 0.9992 - 1s/epoch - 7ms/step\n",
            "Epoch 7/50\n",
            "148/148 - 1s - loss: 0.0024 - acc: 0.9996 - 1s/epoch - 7ms/step\n",
            "Epoch 8/50\n",
            "148/148 - 1s - loss: 0.0015 - acc: 0.9996 - 1s/epoch - 7ms/step\n",
            "Epoch 9/50\n",
            "148/148 - 1s - loss: 9.4951e-04 - acc: 0.9998 - 1s/epoch - 7ms/step\n",
            "Epoch 10/50\n",
            "148/148 - 1s - loss: 6.6688e-04 - acc: 0.9998 - 1s/epoch - 7ms/step\n",
            "Epoch 11/50\n",
            "148/148 - 1s - loss: 5.5135e-04 - acc: 0.9998 - 1s/epoch - 7ms/step\n",
            "Epoch 12/50\n",
            "148/148 - 1s - loss: 4.1990e-04 - acc: 1.0000 - 1s/epoch - 7ms/step\n",
            "Epoch 13/50\n",
            "148/148 - 1s - loss: 3.9996e-04 - acc: 1.0000 - 1s/epoch - 7ms/step\n",
            "Epoch 14/50\n",
            "148/148 - 1s - loss: 2.7179e-04 - acc: 1.0000 - 1s/epoch - 7ms/step\n",
            "Epoch 15/50\n",
            "148/148 - 1s - loss: 2.2403e-04 - acc: 1.0000 - 1s/epoch - 7ms/step\n",
            "Epoch 16/50\n",
            "148/148 - 1s - loss: 1.8843e-04 - acc: 1.0000 - 1s/epoch - 7ms/step\n",
            "Epoch 17/50\n",
            "148/148 - 1s - loss: 1.5114e-04 - acc: 1.0000 - 1s/epoch - 7ms/step\n",
            "Epoch 18/50\n",
            "148/148 - 1s - loss: 1.8935e-04 - acc: 1.0000 - 1s/epoch - 7ms/step\n",
            "Epoch 19/50\n",
            "148/148 - 1s - loss: 1.2349e-04 - acc: 1.0000 - 1s/epoch - 7ms/step\n",
            "Epoch 20/50\n",
            "148/148 - 1s - loss: 8.5213e-05 - acc: 1.0000 - 1s/epoch - 7ms/step\n",
            "Epoch 21/50\n",
            "148/148 - 1s - loss: 9.6748e-05 - acc: 1.0000 - 1s/epoch - 7ms/step\n",
            "Epoch 22/50\n",
            "148/148 - 1s - loss: 7.4055e-05 - acc: 1.0000 - 1s/epoch - 7ms/step\n",
            "Epoch 23/50\n",
            "148/148 - 1s - loss: 6.0489e-05 - acc: 1.0000 - 1s/epoch - 7ms/step\n",
            "Epoch 24/50\n",
            "148/148 - 2s - loss: 5.1332e-05 - acc: 1.0000 - 2s/epoch - 10ms/step\n",
            "Epoch 25/50\n",
            "148/148 - 2s - loss: 2.0133e-04 - acc: 1.0000 - 2s/epoch - 10ms/step\n",
            "Epoch 26/50\n",
            "148/148 - 1s - loss: 5.6145e-05 - acc: 1.0000 - 1s/epoch - 10ms/step\n",
            "Epoch 27/50\n",
            "148/148 - 1s - loss: 4.5200e-05 - acc: 1.0000 - 1s/epoch - 7ms/step\n",
            "Epoch 28/50\n",
            "148/148 - 1s - loss: 3.7867e-05 - acc: 1.0000 - 1s/epoch - 7ms/step\n",
            "Epoch 29/50\n",
            "148/148 - 1s - loss: 3.2354e-05 - acc: 1.0000 - 1s/epoch - 7ms/step\n",
            "Epoch 30/50\n",
            "148/148 - 1s - loss: 2.6545e-05 - acc: 1.0000 - 1s/epoch - 7ms/step\n",
            "Epoch 31/50\n",
            "148/148 - 1s - loss: 2.3928e-05 - acc: 1.0000 - 1s/epoch - 8ms/step\n",
            "Epoch 32/50\n",
            "148/148 - 1s - loss: 2.0608e-05 - acc: 1.0000 - 1s/epoch - 8ms/step\n",
            "Epoch 33/50\n",
            "148/148 - 1s - loss: 1.7909e-05 - acc: 1.0000 - 1s/epoch - 7ms/step\n",
            "Epoch 34/50\n",
            "148/148 - 1s - loss: 2.0350e-05 - acc: 1.0000 - 1s/epoch - 7ms/step\n",
            "Epoch 35/50\n",
            "148/148 - 1s - loss: 1.5388e-05 - acc: 1.0000 - 1s/epoch - 7ms/step\n",
            "Epoch 36/50\n",
            "148/148 - 1s - loss: 1.3830e-05 - acc: 1.0000 - 1s/epoch - 7ms/step\n",
            "Epoch 37/50\n",
            "148/148 - 1s - loss: 1.2795e-05 - acc: 1.0000 - 1s/epoch - 7ms/step\n",
            "Epoch 38/50\n",
            "148/148 - 1s - loss: 1.1161e-05 - acc: 1.0000 - 1s/epoch - 7ms/step\n",
            "Epoch 39/50\n",
            "148/148 - 1s - loss: 1.0817e-05 - acc: 1.0000 - 1s/epoch - 7ms/step\n",
            "Epoch 40/50\n",
            "148/148 - 1s - loss: 9.6901e-06 - acc: 1.0000 - 1s/epoch - 8ms/step\n",
            "Epoch 41/50\n",
            "148/148 - 1s - loss: 8.6699e-06 - acc: 1.0000 - 1s/epoch - 7ms/step\n",
            "Epoch 42/50\n",
            "148/148 - 1s - loss: 7.8121e-06 - acc: 1.0000 - 1s/epoch - 7ms/step\n",
            "Epoch 43/50\n",
            "148/148 - 1s - loss: 7.5682e-06 - acc: 1.0000 - 1s/epoch - 7ms/step\n",
            "Epoch 44/50\n",
            "148/148 - 1s - loss: 6.6099e-06 - acc: 1.0000 - 1s/epoch - 7ms/step\n",
            "Epoch 45/50\n",
            "148/148 - 1s - loss: 5.8619e-06 - acc: 1.0000 - 1s/epoch - 7ms/step\n",
            "Epoch 46/50\n",
            "148/148 - 1s - loss: 5.3705e-06 - acc: 1.0000 - 1s/epoch - 7ms/step\n",
            "Epoch 47/50\n",
            "148/148 - 1s - loss: 5.0883e-06 - acc: 1.0000 - 1s/epoch - 7ms/step\n",
            "Epoch 48/50\n",
            "148/148 - 1s - loss: 4.7696e-06 - acc: 1.0000 - 1s/epoch - 7ms/step\n",
            "Epoch 49/50\n",
            "148/148 - 2s - loss: 4.2140e-06 - acc: 1.0000 - 2s/epoch - 11ms/step\n",
            "Epoch 50/50\n",
            "148/148 - 2s - loss: 3.9307e-06 - acc: 1.0000 - 2s/epoch - 11ms/step\n"
          ]
        }
      ]
    },
    {
      "cell_type": "code",
      "source": [
        "plt.plot(history.history['acc'])\n",
        "plt.title('model accuracy')\n",
        "plt.ylabel('acc')\n",
        "plt.xlabel('epochs')\n",
        "plt.legend(['train', 'test'], loc='upper left')\n",
        "plt.show()\n",
        "plt.savefig('model_accuracy.png')\n",
        "\n",
        "# summarize history for loss\n",
        "plt.plot(history.history['loss'])\n",
        "#plt.plot(history.history['val_loss'])\n",
        "plt.title('model loss')\n",
        "plt.ylabel('loss')\n",
        "plt.xlabel('epochs')\n",
        "plt.legend(['train', 'test'], loc='upper left')\n",
        "plt.show()\n",
        "plt.savefig('model_loss.png')"
      ],
      "metadata": {
        "id": "k71S3Z9gDnBT",
        "outputId": "00988d14-07f1-40ce-a30b-25659bbc2ba8",
        "colab": {
          "base_uri": "https://localhost:8080/",
          "height": 591
        }
      },
      "execution_count": 32,
      "outputs": [
        {
          "output_type": "display_data",
          "data": {
            "text/plain": [
              "<Figure size 432x288 with 1 Axes>"
            ],
            "image/png": "[encoded data removed]"
          },
          "metadata": {
            "needs_background": "light"
          }
        },
        {
          "output_type": "display_data",
          "data": {
            "text/plain": [
              "<Figure size 432x288 with 1 Axes>"
            ],
            "image/png": "[encoded data removed]"
          },
          "metadata": {
            "needs_background": "light"
          }
        },
        {
          "output_type": "display_data",
          "data": {
            "text/plain": [
              "<Figure size 432x288 with 0 Axes>"
            ]
          },
          "metadata": {}
        }
      ]
    },
    {
      "cell_type": "code",
      "source": [
        "# evaluate the model\n",
        "_, train_acc = model.evaluate(X_train, Y_train, verbose=2)\n",
        "_, test_acc = model.evaluate(X_test, Y_test, verbose=2)\n",
        "print('Train: %.3f, Test: %.4f' % (train_acc, test_acc))"
      ],
      "metadata": {
        "id": "VhQCLwN0Dq1u",
        "outputId": "d6e499cc-e57a-4805-917e-101248706505",
        "colab": {
          "base_uri": "https://localhost:8080/"
        }
      },
      "execution_count": 35,
      "outputs": [
        {
          "output_type": "stream",
          "name": "stdout",
          "text": [
            "148/148 - 1s - loss: 3.9026e-06 - acc: 1.0000 - 661ms/epoch - 4ms/step\n",
            "27/27 - 0s - loss: 0.1257 - acc: 0.9868 - 130ms/epoch - 5ms/step\n",
            "Train: 1.000, Test: 0.9868\n"
          ]
        }
      ]
    },
    {
      "cell_type": "code",
      "source": [
        "# predict probabilities for test set\n",
        "yhat_probs = model.predict(X_test, verbose=0)\n",
        "print(yhat_probs)\n",
        "# predict crisp classes for test set\n",
        "#yhat_classes = model.predict_classes(X_test, verbose=0)\n",
        "#print(yhat_classes)\n",
        "# reduce to 1d array\n",
        "yhat_probs = yhat_probs[:, 0]\n",
        "#yhat_classes = yhat_classes[:, 1"
      ],
      "metadata": {
        "id": "9HiVXj98Duz0",
        "outputId": "d54353eb-0f83-429b-a5b0-09b5a599c811",
        "colab": {
          "base_uri": "https://localhost:8080/"
        }
      },
      "execution_count": 42,
      "outputs": [
        {
          "output_type": "stream",
          "name": "stdout",
          "text": [
            "[[1.0000000e+00 2.8862129e-13]\n",
            " [1.0000000e+00 3.3518559e-12]\n",
            " [1.0000000e+00 8.0022328e-13]\n",
            " ...\n",
            " [1.0000000e+00 2.8866972e-13]\n",
            " [1.0000000e+00 4.1107197e-13]\n",
            " [1.0000000e+00 1.9897953e-12]]\n"
          ]
        }
      ]
    },
    {
      "cell_type": "code",
      "source": [
        "import numpy as np\n",
        "rounded_labels=np.argmax(Y_test, axis=1)\n",
        "rounded_labels"
      ],
      "metadata": {
        "id": "eyOqISdpEA-B",
        "outputId": "cccffba5-e3ee-4f23-b128-0acebf66efd4",
        "colab": {
          "base_uri": "https://localhost:8080/"
        }
      },
      "execution_count": 43,
      "outputs": [
        {
          "output_type": "execute_result",
          "data": {
            "text/plain": [
              "array([0, 0, 0, 0, 0, 0, 0, 0, 0, 0, 0, 0, 0, 0, 1, 0, 0, 0, 0, 0, 0, 0,\n",
              "       0, 0, 1, 0, 0, 0, 0, 0, 0, 0, 0, 0, 0, 0, 0, 0, 0, 0, 1, 0, 0, 0,\n",
              "       0, 0, 0, 1, 0, 0, 0, 1, 0, 0, 0, 0, 0, 0, 0, 0, 1, 0, 1, 0, 0, 0,\n",
              "       0, 0, 0, 0, 1, 0, 1, 1, 1, 1, 0, 0, 0, 0, 0, 0, 0, 0, 1, 0, 0, 0,\n",
              "       0, 0, 0, 0, 0, 0, 0, 0, 0, 0, 0, 0, 0, 0, 0, 0, 0, 0, 0, 0, 0, 0,\n",
              "       0, 0, 0, 0, 0, 1, 0, 0, 0, 1, 0, 0, 0, 0, 0, 0, 0, 0, 0, 1, 0, 0,\n",
              "       0, 0, 0, 0, 0, 0, 0, 0, 0, 0, 0, 0, 0, 0, 1, 0, 0, 0, 0, 0, 0, 0,\n",
              "       0, 0, 0, 0, 0, 0, 1, 0, 0, 0, 0, 0, 1, 1, 0, 0, 0, 0, 0, 0, 0, 0,\n",
              "       0, 0, 0, 0, 0, 0, 0, 0, 0, 0, 0, 0, 0, 0, 0, 0, 0, 0, 0, 0, 0, 0,\n",
              "       0, 0, 0, 0, 0, 0, 0, 0, 0, 0, 1, 0, 0, 1, 0, 0, 0, 0, 0, 0, 0, 0,\n",
              "       0, 1, 0, 0, 0, 0, 0, 0, 0, 0, 0, 0, 0, 0, 1, 0, 1, 0, 1, 0, 1, 0,\n",
              "       0, 1, 0, 0, 0, 0, 0, 0, 0, 1, 0, 0, 0, 0, 0, 0, 0, 1, 1, 0, 0, 0,\n",
              "       0, 0, 0, 0, 0, 0, 0, 0, 1, 0, 0, 0, 0, 0, 0, 0, 1, 0, 0, 0, 0, 0,\n",
              "       0, 1, 0, 0, 0, 1, 1, 0, 0, 0, 0, 1, 0, 1, 0, 0, 0, 0, 0, 0, 0, 1,\n",
              "       0, 0, 0, 0, 0, 0, 1, 0, 0, 0, 0, 0, 0, 0, 0, 0, 1, 0, 1, 0, 0, 0,\n",
              "       0, 0, 0, 0, 0, 0, 0, 0, 1, 0, 0, 0, 0, 0, 1, 0, 0, 0, 0, 0, 0, 0,\n",
              "       0, 0, 0, 0, 0, 1, 0, 0, 0, 0, 0, 0, 0, 0, 0, 0, 0, 0, 0, 0, 0, 0,\n",
              "       0, 0, 0, 0, 0, 0, 0, 0, 0, 0, 0, 0, 0, 0, 0, 0, 0, 0, 0, 1, 0, 1,\n",
              "       0, 0, 0, 0, 0, 0, 0, 0, 0, 1, 0, 0, 1, 0, 0, 0, 0, 0, 0, 0, 0, 0,\n",
              "       0, 0, 0, 0, 0, 0, 0, 0, 1, 0, 0, 1, 0, 0, 0, 0, 0, 0, 1, 0, 0, 0,\n",
              "       1, 0, 0, 0, 1, 0, 0, 0, 0, 0, 0, 1, 0, 0, 1, 0, 0, 0, 0, 0, 0, 1,\n",
              "       0, 0, 0, 0, 0, 0, 0, 0, 1, 0, 0, 0, 0, 0, 0, 0, 0, 0, 0, 1, 0, 0,\n",
              "       0, 0, 0, 0, 0, 1, 0, 0, 0, 0, 1, 0, 0, 1, 0, 0, 0, 0, 0, 0, 0, 0,\n",
              "       0, 0, 0, 0, 0, 0, 0, 0, 0, 0, 0, 0, 1, 1, 0, 0, 0, 0, 0, 0, 0, 0,\n",
              "       0, 0, 1, 0, 0, 0, 0, 0, 0, 0, 0, 1, 0, 1, 0, 1, 1, 1, 0, 0, 0, 0,\n",
              "       1, 1, 1, 0, 0, 0, 0, 0, 0, 0, 0, 1, 0, 1, 0, 0, 0, 0, 0, 0, 0, 0,\n",
              "       0, 0, 0, 0, 1, 0, 0, 0, 0, 0, 0, 0, 0, 1, 0, 0, 0, 0, 0, 0, 0, 0,\n",
              "       0, 0, 0, 0, 0, 0, 0, 0, 0, 0, 0, 0, 0, 0, 0, 0, 1, 1, 0, 0, 0, 0,\n",
              "       0, 1, 0, 0, 0, 0, 0, 0, 0, 0, 0, 0, 0, 0, 0, 0, 0, 0, 0, 1, 0, 0,\n",
              "       0, 0, 0, 0, 0, 1, 0, 0, 0, 1, 0, 0, 0, 0, 1, 0, 0, 0, 0, 0, 0, 0,\n",
              "       0, 0, 0, 0, 0, 0, 0, 0, 0, 0, 0, 0, 0, 0, 0, 0, 0, 0, 1, 0, 0, 1,\n",
              "       0, 0, 0, 0, 0, 0, 0, 0, 0, 0, 0, 0, 0, 0, 0, 0, 0, 0, 0, 0, 0, 0,\n",
              "       0, 0, 0, 0, 0, 0, 0, 0, 0, 0, 0, 0, 0, 0, 0, 0, 0, 0, 0, 0, 1, 0,\n",
              "       0, 0, 0, 0, 1, 1, 0, 0, 0, 0, 0, 0, 0, 0, 0, 1, 0, 0, 0, 0, 0, 0,\n",
              "       0, 0, 0, 0, 0, 1, 0, 1, 0, 0, 0, 0, 0, 0, 1, 0, 0, 0, 0, 0, 0, 0,\n",
              "       0, 0, 0, 1, 0, 0, 0, 0, 0, 0, 1, 0, 1, 0, 1, 0, 0, 0, 0, 0, 0, 0,\n",
              "       0, 0, 1, 1, 0, 0, 0, 0, 0, 1, 1, 0, 0, 0, 0, 0, 0, 0, 0, 0, 0, 0,\n",
              "       0, 1, 1, 1, 0, 1, 0, 0, 0, 0, 0, 0, 0, 0, 0, 0, 1, 1, 0, 0, 0, 0])"
            ]
          },
          "metadata": {},
          "execution_count": 43
        }
      ]
    },
    {
      "cell_type": "code",
      "source": [
        "# from sklearn.metrics import confusion_matrix\n",
        "# cm = confusion_matrix(rounded_labels, yhat_classes)\n",
        "# cm"
      ],
      "metadata": {
        "id": "TVlrbeaREZvy"
      },
      "execution_count": 44,
      "outputs": []
    },
    {
      "cell_type": "code",
      "source": [
        "validation_size = 200\n",
        "\n",
        "X_validate = X_test[-validation_size:]\n",
        "Y_validate = Y_test[-validation_size:]\n",
        "X_test = X_test[:-validation_size]\n",
        "Y_test = Y_test[:-validation_size]\n",
        "score,acc = model.evaluate(X_test, Y_test, verbose = 1, batch_size = batch_size)\n",
        "\n",
        "print(\"score: %.2f\" % (score))\n",
        "print(\"acc: %.2f\" % (acc))"
      ],
      "metadata": {
        "id": "iojWin-IFER7",
        "outputId": "93918bf4-5e4e-454f-a3dc-1403ddfbd8c1",
        "colab": {
          "base_uri": "https://localhost:8080/"
        }
      },
      "execution_count": 45,
      "outputs": [
        {
          "output_type": "stream",
          "name": "stdout",
          "text": [
            "20/20 [==============================] - 0s 10ms/step - loss: 0.1547 - acc: 0.9843\n",
            "score: 0.15\n",
            "acc: 0.98\n"
          ]
        }
      ]
    },
    {
      "cell_type": "code",
      "source": [
        "model.save('Mymodel.h5')"
      ],
      "metadata": {
        "id": "aCuLLqKnFKXX"
      },
      "execution_count": 46,
      "outputs": []
    },
    {
      "cell_type": "code",
      "source": [
        "message = ['Congratulations! you have won a $1,000 Walmart gift card. Go to http://bit.ly/123456 to claim now.']\n",
        "seq = tokenizer.texts_to_sequences(message)\n",
        "\n",
        "padded = pad_sequences(seq, maxlen=X.shape[1], dtype='int32', value=0)\n",
        "\n",
        "pred = model.predict(padded)\n",
        "\n",
        "labels = ['ham','spam']\n",
        "print(pred, labels[np.argmax(pred)])"
      ],
      "metadata": {
        "id": "KubLOwjuFMs3",
        "outputId": "c5a5dd66-9dd5-45ab-b6f5-dbf096602d65",
        "colab": {
          "base_uri": "https://localhost:8080/"
        }
      },
      "execution_count": 47,
      "outputs": [
        {
          "output_type": "stream",
          "name": "stdout",
          "text": [
            "1/1 [==============================] - 0s 24ms/step\n",
            "[[4.2130497e-11 1.0000000e+00]] spam\n"
          ]
        }
      ]
    },
    {
      "cell_type": "code",
      "source": [
        "message = ['thanks for accepting my request to connect']\n",
        "seq = tokenizer.texts_to_sequences(message)\n",
        "\n",
        "padded = pad_sequences(seq, maxlen=X.shape[1], dtype='int32', value=0)\n",
        "\n",
        "pred = model.predict(padded)\n",
        "\n",
        "labels = ['ham','spam']\n",
        "print(pred, labels[np.argmax(pred)])"
      ],
      "metadata": {
        "id": "YnRtMdDcFSUL",
        "outputId": "f43b3b23-b222-4184-dcee-7111c39bd89a",
        "colab": {
          "base_uri": "https://localhost:8080/"
        }
      },
      "execution_count": 48,
      "outputs": [
        {
          "output_type": "stream",
          "name": "stdout",
          "text": [
            "1/1 [==============================] - 0s 57ms/step\n",
            "[[1.0000000e+00 3.3084676e-12]] ham\n"
          ]
        }
      ]
    }
  ]
}